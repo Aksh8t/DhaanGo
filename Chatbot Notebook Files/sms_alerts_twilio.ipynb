{
 "cells": [
  {
   "cell_type": "code",
   "execution_count": 2,
   "id": "234e4bba-324c-4eba-bdd3-6356a82de7e6",
   "metadata": {},
   "outputs": [
    {
     "name": "stdout",
     "output_type": "stream",
     "text": [
      "\u001b[33mDEPRECATION: Loading egg at /opt/anaconda3/lib/python3.11/site-packages/huggingface_hub-0.25.0-py3.8.egg is deprecated. pip 24.3 will enforce this behaviour change. A possible replacement is to use pip for package installation.. Discussion can be found at https://github.com/pypa/pip/issues/12330\u001b[0m\u001b[33m\n",
      "\u001b[0mCollecting twilio\n",
      "  Downloading twilio-9.3.4-py2.py3-none-any.whl.metadata (12 kB)\n",
      "Requirement already satisfied: requests>=2.0.0 in /opt/anaconda3/lib/python3.11/site-packages (from twilio) (2.32.3)\n",
      "Requirement already satisfied: PyJWT<3.0.0,>=2.0.0 in /opt/anaconda3/lib/python3.11/site-packages (from twilio) (2.4.0)\n",
      "Requirement already satisfied: aiohttp>=3.8.4 in /opt/anaconda3/lib/python3.11/site-packages (from twilio) (3.9.3)\n",
      "Collecting aiohttp-retry>=2.8.3 (from twilio)\n",
      "  Downloading aiohttp_retry-2.8.3-py3-none-any.whl.metadata (8.9 kB)\n",
      "Requirement already satisfied: aiosignal>=1.1.2 in /opt/anaconda3/lib/python3.11/site-packages (from aiohttp>=3.8.4->twilio) (1.2.0)\n",
      "Requirement already satisfied: attrs>=17.3.0 in /opt/anaconda3/lib/python3.11/site-packages (from aiohttp>=3.8.4->twilio) (24.2.0)\n",
      "Requirement already satisfied: frozenlist>=1.1.1 in /opt/anaconda3/lib/python3.11/site-packages (from aiohttp>=3.8.4->twilio) (1.4.0)\n",
      "Requirement already satisfied: multidict<7.0,>=4.5 in /opt/anaconda3/lib/python3.11/site-packages (from aiohttp>=3.8.4->twilio) (6.0.4)\n",
      "Requirement already satisfied: yarl<2.0,>=1.0 in /opt/anaconda3/lib/python3.11/site-packages (from aiohttp>=3.8.4->twilio) (1.9.3)\n",
      "Requirement already satisfied: charset-normalizer<4,>=2 in /opt/anaconda3/lib/python3.11/site-packages (from requests>=2.0.0->twilio) (2.0.4)\n",
      "Requirement already satisfied: idna<4,>=2.5 in /opt/anaconda3/lib/python3.11/site-packages (from requests>=2.0.0->twilio) (2.10)\n",
      "Requirement already satisfied: urllib3<3,>=1.21.1 in /opt/anaconda3/lib/python3.11/site-packages (from requests>=2.0.0->twilio) (2.0.7)\n",
      "Requirement already satisfied: certifi>=2017.4.17 in /opt/anaconda3/lib/python3.11/site-packages (from requests>=2.0.0->twilio) (2024.8.30)\n",
      "Downloading twilio-9.3.4-py2.py3-none-any.whl (1.8 MB)\n",
      "\u001b[2K   \u001b[90m━━━━━━━━━━━━━━━━━━━━━━━━━━━━━━━━━━━━━━━━\u001b[0m \u001b[32m1.8/1.8 MB\u001b[0m \u001b[31m2.9 MB/s\u001b[0m eta \u001b[36m0:00:00\u001b[0m00:01\u001b[0m00:01\u001b[0m0m\n",
      "\u001b[?25hDownloading aiohttp_retry-2.8.3-py3-none-any.whl (9.8 kB)\n",
      "Installing collected packages: aiohttp-retry, twilio\n",
      "Successfully installed aiohttp-retry-2.8.3 twilio-9.3.4\n"
     ]
    }
   ],
   "source": [
    "!pip install twilio\n"
   ]
  },
  {
   "cell_type": "code",
   "execution_count": 3,
   "id": "515f4df9-a986-4598-a2a6-373b0ce75665",
   "metadata": {},
   "outputs": [],
   "source": [
    "GROQ_API_KEY=\"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\"\n"
   ]
  },
  {
   "cell_type": "code",
   "execution_count": 7,
   "id": "2a59c66f-39f0-404d-81c3-12bd4d96d17a",
   "metadata": {},
   "outputs": [
    {
     "name": "stdout",
     "output_type": "stream",
     "text": [
      "प्रधानमंत्री कृषि सिंचाई योजना: जल संरक्षण और प्रबंधन सुनिश्चित करने के लिए भारत सरकार की पहल। लक्ष्य: 'हर खेत को पानी' (हर खेत के लिए पानी) और पानी के उपयोग की दक्षता में सुधार करना। फसल की उपज बढ़ाने के लिए ड्रिप और स्प्रिंकलर सिंचाई जैसी सूक्ष्म सिंचाई प्रणालियां। 2015 में आर्थिक मामलों की कैबिनेट समिति द्वारा अनुमोदित। प्रति बूंद अधिक फसल योजना के बारे में यहाँ अधिक जानें\n"
     ]
    }
   ],
   "source": [
    "import os\n",
    "import requests\n",
    "from groq import Groq\n",
    "\n",
    "client = Groq(\n",
    "    api_key=GROQ_API_KEY,\n",
    ")\n",
    "\n",
    "Scheme = \"Pradhan Mantri Krishi Sinchai Yojana\"\n",
    "Scheme_Details = \"\"\"Har Khet ko Pani Prime Minister Krishi Sinchayee Yojana\n",
    "\n",
    "Government of India is committed to accord high priority to water conservation and its management. To this effect Pradhan Mantri Krishi Sinchayee Yojana (PMKSY) has been formulated with the vision of extending the coverage of irrigation ‘Har Khet ko pani’ and improving water use efficiency More crop per drop in a focused manner with end to end solution on source creation, distribution, management, field application and extension activities. The Cabinet Committee on Economic Affairs chaired by Hon’ble Prime Minister has accorded approval of Pradhan Mantri Krishi Sinchayee Yojana (PMKSY) in its meeting held on 1st July, 2015.\n",
    "\n",
    "DA&FW is implementing Per Drop More Crop scheme which is operational from 2015-16 in the Country. The Per Drop More Crop scheme mainly focuses on water use efficiency at farm level through Micro Irrigation (Drip and Sprinkler Irrigation System). PDMC is being implemented under RKVY from 2022-23.\"\"\"\n",
    "\n",
    "\n",
    "chat_completion = client.chat.completions.create(\n",
    "    messages=[\n",
    "        {\n",
    "            \"role\": \"user\",\n",
    "            \"content\": f\"This is a scheme {Scheme} under the indian government for farmers, the details of the scheme for farmers are as follows, {Scheme_Details}, type a text message that is to be given through a messaging software explaining about the scheme. It should be in under 100 words to be precise. Very consise. \",\n",
    "        }\n",
    "    ],\n",
    "    model=\"llama3-8b-8192\",\n",
    ")\n",
    "\n",
    "Answer = chat_completion.choices[0].message.content\n",
    "\n",
    "url = 'https://api.devnagri.com/machine-translation/v2/translate'\n",
    "\n",
    "\n",
    "data = {\n",
    "    'key': 'devnagri_a52a6a788d8311ef972f4a279c6d377c',\n",
    "    'sentence': Answer,\n",
    "    'src_lang': 'en',\n",
    "    'dest_lang': 'hi'\n",
    "}\n",
    "\n",
    "response = requests.post(url, data=data)\n",
    "\n",
    "ans = response.json()\n",
    "answer = ans[\"translated_text\"]\n",
    "print(answer)"
   ]
  },
  {
   "cell_type": "code",
   "execution_count": 8,
   "id": "3b32c3c4-4b82-4d0c-aa5e-a632974dc0ba",
   "metadata": {},
   "outputs": [
    {
     "name": "stdout",
     "output_type": "stream",
     "text": [
      "Message sent with SID: SM84d17849336142f9c4f6a1a6d94c11f8\n"
     ]
    }
   ],
   "source": [
    "from twilio.rest import Client\n",
    "\n",
    "account_sid = 'AC601886884f169e880844b4f038a72830'\n",
    "auth_token = '8b43aa80860ef6f8af6b6845ea56eb72'\n",
    "client = Client(account_sid, auth_token)\n",
    "\n",
    "twilio_phone_number = '+18583467259'\n",
    "recipient_phone_number = '+916383296019'\n",
    "message_body = answer\n",
    "\n",
    "# Send the message\n",
    "message = client.messages.create(\n",
    "    body=message_body,\n",
    "    from_=twilio_phone_number,\n",
    "    to=recipient_phone_number\n",
    ")\n",
    "\n",
    "print(f\"Message sent with SID: {message.sid}\")\n"
   ]
  },
  {
   "cell_type": "code",
   "execution_count": null,
   "id": "c414451f-055a-41d7-8542-278a0e3925fe",
   "metadata": {},
   "outputs": [],
   "source": []
  }
 ],
 "metadata": {
  "kernelspec": {
   "display_name": "Python 3 (ipykernel)",
   "language": "python",
   "name": "python3"
  },
  "language_info": {
   "codemirror_mode": {
    "name": "ipython",
    "version": 3
   },
   "file_extension": ".py",
   "mimetype": "text/x-python",
   "name": "python",
   "nbconvert_exporter": "python",
   "pygments_lexer": "ipython3",
   "version": "3.11.7"
  }
 },
 "nbformat": 4,
 "nbformat_minor": 5
}
